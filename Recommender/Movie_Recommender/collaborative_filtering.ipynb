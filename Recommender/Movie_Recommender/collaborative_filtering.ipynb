{
 "metadata": {
  "language_info": {
   "codemirror_mode": {
    "name": "ipython",
    "version": 3
   },
   "file_extension": ".py",
   "mimetype": "text/x-python",
   "name": "python",
   "nbconvert_exporter": "python",
   "pygments_lexer": "ipython3",
   "version": "3.8.5-final"
  },
  "orig_nbformat": 2,
  "kernelspec": {
   "name": "Python 3.8.5 64-bit",
   "display_name": "Python 3.8.5 64-bit",
   "metadata": {
    "interpreter": {
     "hash": "3e82d2bc5239ce8fa90f675a0e68f87b5c1458398e9367f7ddd0a53230c83c38"
    }
   }
  }
 },
 "nbformat": 4,
 "nbformat_minor": 2,
 "cells": [
  {
   "cell_type": "code",
   "execution_count": 1,
   "metadata": {},
   "outputs": [],
   "source": [
    "import pandas as pd \n",
    "from scipy import sparse\n",
    "from sklearn.metrics.pairwise import cosine_similarity\n"
   ]
  },
  {
   "cell_type": "code",
   "execution_count": 5,
   "metadata": {},
   "outputs": [
    {
     "output_type": "execute_result",
     "data": {
      "text/plain": [
       "        action1  action2  action3  romantic1  romantic2  romantic3\n",
       "user 1      4.0      5.0      3.0        0.0        2.0        1.0\n",
       "user 2      5.0      3.0      3.0        2.0        2.0        0.0\n",
       "user 3      1.0      0.0      0.0        4.0        5.0        4.0\n",
       "user 4      0.0      2.0      1.0        4.0        0.0        3.0\n",
       "user 5      1.0      0.0      2.0        3.0        3.0        4.0"
      ],
      "text/html": "<div>\n<style scoped>\n    .dataframe tbody tr th:only-of-type {\n        vertical-align: middle;\n    }\n\n    .dataframe tbody tr th {\n        vertical-align: top;\n    }\n\n    .dataframe thead th {\n        text-align: right;\n    }\n</style>\n<table border=\"1\" class=\"dataframe\">\n  <thead>\n    <tr style=\"text-align: right;\">\n      <th></th>\n      <th>action1</th>\n      <th>action2</th>\n      <th>action3</th>\n      <th>romantic1</th>\n      <th>romantic2</th>\n      <th>romantic3</th>\n    </tr>\n  </thead>\n  <tbody>\n    <tr>\n      <th>user 1</th>\n      <td>4.0</td>\n      <td>5.0</td>\n      <td>3.0</td>\n      <td>0.0</td>\n      <td>2.0</td>\n      <td>1.0</td>\n    </tr>\n    <tr>\n      <th>user 2</th>\n      <td>5.0</td>\n      <td>3.0</td>\n      <td>3.0</td>\n      <td>2.0</td>\n      <td>2.0</td>\n      <td>0.0</td>\n    </tr>\n    <tr>\n      <th>user 3</th>\n      <td>1.0</td>\n      <td>0.0</td>\n      <td>0.0</td>\n      <td>4.0</td>\n      <td>5.0</td>\n      <td>4.0</td>\n    </tr>\n    <tr>\n      <th>user 4</th>\n      <td>0.0</td>\n      <td>2.0</td>\n      <td>1.0</td>\n      <td>4.0</td>\n      <td>0.0</td>\n      <td>3.0</td>\n    </tr>\n    <tr>\n      <th>user 5</th>\n      <td>1.0</td>\n      <td>0.0</td>\n      <td>2.0</td>\n      <td>3.0</td>\n      <td>3.0</td>\n      <td>4.0</td>\n    </tr>\n  </tbody>\n</table>\n</div>"
     },
     "metadata": {},
     "execution_count": 5
    }
   ],
   "source": [
    "ratings_toy = pd.read_csv('dataset/toy_dataset.csv', index_col=0)\n",
    "ratings_toy = ratings_toy.fillna(0)\n",
    "ratings_toy"
   ]
  },
  {
   "cell_type": "code",
   "execution_count": 8,
   "metadata": {},
   "outputs": [
    {
     "output_type": "stream",
     "name": "stdout",
     "text": [
      "[[ 1.          0.70668875  0.81368151 -0.79941088 -0.02539184 -0.91410609]\n [ 0.70668875  1.          0.72310153 -0.84515425 -0.5189993  -0.84337386]\n [ 0.81368151  0.72310153  1.         -0.84794611 -0.3799803  -0.80218063]\n [-0.79941088 -0.84515425 -0.84794611  1.          0.14803913  0.72374686]\n [-0.02539184 -0.5189993  -0.3799803   0.14803913  1.          0.39393939]\n [-0.91410609 -0.84337386 -0.80218063  0.72374686  0.39393939  1.        ]]\n"
     ]
    },
    {
     "output_type": "execute_result",
     "data": {
      "text/plain": [
       "            action1   action2   action3  romantic1  romantic2  romantic3\n",
       "action1    1.000000  0.706689  0.813682  -0.799411  -0.025392  -0.914106\n",
       "action2    0.706689  1.000000  0.723102  -0.845154  -0.518999  -0.843374\n",
       "action3    0.813682  0.723102  1.000000  -0.847946  -0.379980  -0.802181\n",
       "romantic1 -0.799411 -0.845154 -0.847946   1.000000   0.148039   0.723747\n",
       "romantic2 -0.025392 -0.518999 -0.379980   0.148039   1.000000   0.393939\n",
       "romantic3 -0.914106 -0.843374 -0.802181   0.723747   0.393939   1.000000"
      ],
      "text/html": "<div>\n<style scoped>\n    .dataframe tbody tr th:only-of-type {\n        vertical-align: middle;\n    }\n\n    .dataframe tbody tr th {\n        vertical-align: top;\n    }\n\n    .dataframe thead th {\n        text-align: right;\n    }\n</style>\n<table border=\"1\" class=\"dataframe\">\n  <thead>\n    <tr style=\"text-align: right;\">\n      <th></th>\n      <th>action1</th>\n      <th>action2</th>\n      <th>action3</th>\n      <th>romantic1</th>\n      <th>romantic2</th>\n      <th>romantic3</th>\n    </tr>\n  </thead>\n  <tbody>\n    <tr>\n      <th>action1</th>\n      <td>1.000000</td>\n      <td>0.706689</td>\n      <td>0.813682</td>\n      <td>-0.799411</td>\n      <td>-0.025392</td>\n      <td>-0.914106</td>\n    </tr>\n    <tr>\n      <th>action2</th>\n      <td>0.706689</td>\n      <td>1.000000</td>\n      <td>0.723102</td>\n      <td>-0.845154</td>\n      <td>-0.518999</td>\n      <td>-0.843374</td>\n    </tr>\n    <tr>\n      <th>action3</th>\n      <td>0.813682</td>\n      <td>0.723102</td>\n      <td>1.000000</td>\n      <td>-0.847946</td>\n      <td>-0.379980</td>\n      <td>-0.802181</td>\n    </tr>\n    <tr>\n      <th>romantic1</th>\n      <td>-0.799411</td>\n      <td>-0.845154</td>\n      <td>-0.847946</td>\n      <td>1.000000</td>\n      <td>0.148039</td>\n      <td>0.723747</td>\n    </tr>\n    <tr>\n      <th>romantic2</th>\n      <td>-0.025392</td>\n      <td>-0.518999</td>\n      <td>-0.379980</td>\n      <td>0.148039</td>\n      <td>1.000000</td>\n      <td>0.393939</td>\n    </tr>\n    <tr>\n      <th>romantic3</th>\n      <td>-0.914106</td>\n      <td>-0.843374</td>\n      <td>-0.802181</td>\n      <td>0.723747</td>\n      <td>0.393939</td>\n      <td>1.000000</td>\n    </tr>\n  </tbody>\n</table>\n</div>"
     },
     "metadata": {},
     "execution_count": 8
    }
   ],
   "source": [
    "def standardize(row):\n",
    "    new_row = (row-row.mean())/(row.max() - row.min())\n",
    "    return new_row\n",
    "ratings_toy_std = ratings_toy.apply(standardize)\n",
    "#ratings_toy_std\n",
    "# We Transpose the matrix because we want similarity between movies that are needed\n",
    "#to be in rows\n",
    "movie_similarity = cosine_similarity(ratings_toy_std.T)\n",
    "print(movie_similarity)\n",
    "movie_similarity_df = pd.DataFrame(movie_similarity, index=ratings_toy.columns, columns=ratings_toy.columns)\n",
    "movie_similarity_df"
   ]
  },
  {
   "cell_type": "code",
   "execution_count": 10,
   "metadata": {},
   "outputs": [
    {
     "output_type": "stream",
     "name": "stdout",
     "text": [
      "action3      1.500000\naction1      1.220522\naction2      1.084652\nromantic2   -0.569970\nromantic3   -1.203271\nromantic1   -1.271919\nName: action3, dtype: float64\n"
     ]
    }
   ],
   "source": [
    "#Recommendation Time!!\n",
    "\n",
    "def get_similar_movies(movie_name, user_rating):\n",
    "    #subtract 2.5(mean of ratings) from user_rating \n",
    "    # If user rating's below 3, movies similar to this movie is pushed down the \n",
    "    #preference list\n",
    "    similar_score = movie_similarity_df[movie_name]*(user_rating-2.5)\n",
    "    similar_score = similar_score.sort_values(ascending=False)\n",
    "    return similar_score\n",
    "print(get_similar_movies('action3',4))"
   ]
  },
  {
   "cell_type": "code",
   "execution_count": 12,
   "metadata": {},
   "outputs": [
    {
     "output_type": "execute_result",
     "data": {
      "text/plain": [
       "    action1   action2   action3  romantic1  romantic2  romantic3\n",
       "0  2.500000  1.766722  2.034204  -1.998527  -0.063480  -2.285265\n",
       "1  0.038088  0.778499  0.569970  -0.222059  -1.500000  -0.590909\n",
       "2  1.371159  1.265061  1.203271  -1.085620  -0.590909  -1.500000"
      ],
      "text/html": "<div>\n<style scoped>\n    .dataframe tbody tr th:only-of-type {\n        vertical-align: middle;\n    }\n\n    .dataframe tbody tr th {\n        vertical-align: top;\n    }\n\n    .dataframe thead th {\n        text-align: right;\n    }\n</style>\n<table border=\"1\" class=\"dataframe\">\n  <thead>\n    <tr style=\"text-align: right;\">\n      <th></th>\n      <th>action1</th>\n      <th>action2</th>\n      <th>action3</th>\n      <th>romantic1</th>\n      <th>romantic2</th>\n      <th>romantic3</th>\n    </tr>\n  </thead>\n  <tbody>\n    <tr>\n      <th>0</th>\n      <td>2.500000</td>\n      <td>1.766722</td>\n      <td>2.034204</td>\n      <td>-1.998527</td>\n      <td>-0.063480</td>\n      <td>-2.285265</td>\n    </tr>\n    <tr>\n      <th>1</th>\n      <td>0.038088</td>\n      <td>0.778499</td>\n      <td>0.569970</td>\n      <td>-0.222059</td>\n      <td>-1.500000</td>\n      <td>-0.590909</td>\n    </tr>\n    <tr>\n      <th>2</th>\n      <td>1.371159</td>\n      <td>1.265061</td>\n      <td>1.203271</td>\n      <td>-1.085620</td>\n      <td>-0.590909</td>\n      <td>-1.500000</td>\n    </tr>\n  </tbody>\n</table>\n</div>"
     },
     "metadata": {},
     "execution_count": 12
    }
   ],
   "source": [
    "action_lover = [('action1', 5), ('romantic2', 1), ('romantic3', 1)]\n",
    "similar_movies = pd.DataFrame()\n",
    "for movie,rating in action_lover:\n",
    "    similar_movies = similar_movies.append(get_similar_movies(movie,rating), ignore_index=True)\n",
    "\n",
    "similar_movies"
   ]
  },
  {
   "cell_type": "code",
   "execution_count": 13,
   "metadata": {},
   "outputs": [
    {
     "output_type": "execute_result",
     "data": {
      "text/plain": [
       "action1      3.909247\n",
       "action2      3.810282\n",
       "action3      3.807445\n",
       "romantic2   -2.154389\n",
       "romantic1   -3.306206\n",
       "romantic3   -4.376174\n",
       "dtype: float64"
      ]
     },
     "metadata": {},
     "execution_count": 13
    }
   ],
   "source": [
    "similar_movies.sum().sort_values(ascending=False)"
   ]
  },
  {
   "cell_type": "code",
   "execution_count": null,
   "metadata": {},
   "outputs": [],
   "source": []
  }
 ]
}