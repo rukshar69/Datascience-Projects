{
 "metadata": {
  "language_info": {
   "codemirror_mode": {
    "name": "ipython",
    "version": 3
   },
   "file_extension": ".py",
   "mimetype": "text/x-python",
   "name": "python",
   "nbconvert_exporter": "python",
   "pygments_lexer": "ipython3",
   "version": "3.8.5-final"
  },
  "orig_nbformat": 2,
  "kernelspec": {
   "name": "Python 3.8.5 64-bit",
   "display_name": "Python 3.8.5 64-bit",
   "metadata": {
    "interpreter": {
     "hash": "3e82d2bc5239ce8fa90f675a0e68f87b5c1458398e9367f7ddd0a53230c83c38"
    }
   }
  }
 },
 "nbformat": 4,
 "nbformat_minor": 2,
 "cells": [
  {
   "cell_type": "code",
   "execution_count": 3,
   "metadata": {},
   "outputs": [
    {
     "output_type": "execute_result",
     "data": {
      "text/plain": [
       "   movieId             title  ... rating   timestamp\n",
       "0        1  Toy Story (1995)  ...    4.0   964982703\n",
       "1        1  Toy Story (1995)  ...    4.0   847434962\n",
       "2        1  Toy Story (1995)  ...    4.5  1106635946\n",
       "3        1  Toy Story (1995)  ...    2.5  1510577970\n",
       "4        1  Toy Story (1995)  ...    4.5  1305696483\n",
       "\n",
       "[5 rows x 6 columns]"
      ],
      "text/html": "<div>\n<style scoped>\n    .dataframe tbody tr th:only-of-type {\n        vertical-align: middle;\n    }\n\n    .dataframe tbody tr th {\n        vertical-align: top;\n    }\n\n    .dataframe thead th {\n        text-align: right;\n    }\n</style>\n<table border=\"1\" class=\"dataframe\">\n  <thead>\n    <tr style=\"text-align: right;\">\n      <th></th>\n      <th>movieId</th>\n      <th>title</th>\n      <th>genres</th>\n      <th>userId</th>\n      <th>rating</th>\n      <th>timestamp</th>\n    </tr>\n  </thead>\n  <tbody>\n    <tr>\n      <th>0</th>\n      <td>1</td>\n      <td>Toy Story (1995)</td>\n      <td>Adventure|Animation|Children|Comedy|Fantasy</td>\n      <td>1</td>\n      <td>4.0</td>\n      <td>964982703</td>\n    </tr>\n    <tr>\n      <th>1</th>\n      <td>1</td>\n      <td>Toy Story (1995)</td>\n      <td>Adventure|Animation|Children|Comedy|Fantasy</td>\n      <td>5</td>\n      <td>4.0</td>\n      <td>847434962</td>\n    </tr>\n    <tr>\n      <th>2</th>\n      <td>1</td>\n      <td>Toy Story (1995)</td>\n      <td>Adventure|Animation|Children|Comedy|Fantasy</td>\n      <td>7</td>\n      <td>4.5</td>\n      <td>1106635946</td>\n    </tr>\n    <tr>\n      <th>3</th>\n      <td>1</td>\n      <td>Toy Story (1995)</td>\n      <td>Adventure|Animation|Children|Comedy|Fantasy</td>\n      <td>15</td>\n      <td>2.5</td>\n      <td>1510577970</td>\n    </tr>\n    <tr>\n      <th>4</th>\n      <td>1</td>\n      <td>Toy Story (1995)</td>\n      <td>Adventure|Animation|Children|Comedy|Fantasy</td>\n      <td>17</td>\n      <td>4.5</td>\n      <td>1305696483</td>\n    </tr>\n  </tbody>\n</table>\n</div>"
     },
     "metadata": {},
     "execution_count": 3
    }
   ],
   "source": [
    "import pandas as pd \n",
    "ratings =pd.read_csv('dataset/ratings.csv')\n",
    "movies = pd.read_csv('dataset/movies.csv')\n",
    "df = pd.merge(movies, ratings)\n",
    "df.head()"
   ]
  },
  {
   "cell_type": "code",
   "execution_count": 4,
   "metadata": {},
   "outputs": [
    {
     "output_type": "execute_result",
     "data": {
      "text/plain": [
       "   movieId  ...                                       genres\n",
       "0        1  ...  Adventure|Animation|Children|Comedy|Fantasy\n",
       "1        2  ...                   Adventure|Children|Fantasy\n",
       "2        3  ...                               Comedy|Romance\n",
       "3        4  ...                         Comedy|Drama|Romance\n",
       "4        5  ...                                       Comedy\n",
       "\n",
       "[5 rows x 3 columns]"
      ],
      "text/html": "<div>\n<style scoped>\n    .dataframe tbody tr th:only-of-type {\n        vertical-align: middle;\n    }\n\n    .dataframe tbody tr th {\n        vertical-align: top;\n    }\n\n    .dataframe thead th {\n        text-align: right;\n    }\n</style>\n<table border=\"1\" class=\"dataframe\">\n  <thead>\n    <tr style=\"text-align: right;\">\n      <th></th>\n      <th>movieId</th>\n      <th>title</th>\n      <th>genres</th>\n    </tr>\n  </thead>\n  <tbody>\n    <tr>\n      <th>0</th>\n      <td>1</td>\n      <td>Toy Story (1995)</td>\n      <td>Adventure|Animation|Children|Comedy|Fantasy</td>\n    </tr>\n    <tr>\n      <th>1</th>\n      <td>2</td>\n      <td>Jumanji (1995)</td>\n      <td>Adventure|Children|Fantasy</td>\n    </tr>\n    <tr>\n      <th>2</th>\n      <td>3</td>\n      <td>Grumpier Old Men (1995)</td>\n      <td>Comedy|Romance</td>\n    </tr>\n    <tr>\n      <th>3</th>\n      <td>4</td>\n      <td>Waiting to Exhale (1995)</td>\n      <td>Comedy|Drama|Romance</td>\n    </tr>\n    <tr>\n      <th>4</th>\n      <td>5</td>\n      <td>Father of the Bride Part II (1995)</td>\n      <td>Comedy</td>\n    </tr>\n  </tbody>\n</table>\n</div>"
     },
     "metadata": {},
     "execution_count": 4
    }
   ],
   "source": [
    "movies.head()"
   ]
  },
  {
   "cell_type": "code",
   "execution_count": 5,
   "metadata": {},
   "outputs": [
    {
     "output_type": "execute_result",
     "data": {
      "text/plain": [
       "   userId  movieId  rating  timestamp\n",
       "0       1        1     4.0  964982703\n",
       "1       1        3     4.0  964981247\n",
       "2       1        6     4.0  964982224\n",
       "3       1       47     5.0  964983815\n",
       "4       1       50     5.0  964982931"
      ],
      "text/html": "<div>\n<style scoped>\n    .dataframe tbody tr th:only-of-type {\n        vertical-align: middle;\n    }\n\n    .dataframe tbody tr th {\n        vertical-align: top;\n    }\n\n    .dataframe thead th {\n        text-align: right;\n    }\n</style>\n<table border=\"1\" class=\"dataframe\">\n  <thead>\n    <tr style=\"text-align: right;\">\n      <th></th>\n      <th>userId</th>\n      <th>movieId</th>\n      <th>rating</th>\n      <th>timestamp</th>\n    </tr>\n  </thead>\n  <tbody>\n    <tr>\n      <th>0</th>\n      <td>1</td>\n      <td>1</td>\n      <td>4.0</td>\n      <td>964982703</td>\n    </tr>\n    <tr>\n      <th>1</th>\n      <td>1</td>\n      <td>3</td>\n      <td>4.0</td>\n      <td>964981247</td>\n    </tr>\n    <tr>\n      <th>2</th>\n      <td>1</td>\n      <td>6</td>\n      <td>4.0</td>\n      <td>964982224</td>\n    </tr>\n    <tr>\n      <th>3</th>\n      <td>1</td>\n      <td>47</td>\n      <td>5.0</td>\n      <td>964983815</td>\n    </tr>\n    <tr>\n      <th>4</th>\n      <td>1</td>\n      <td>50</td>\n      <td>5.0</td>\n      <td>964982931</td>\n    </tr>\n  </tbody>\n</table>\n</div>"
     },
     "metadata": {},
     "execution_count": 5
    }
   ],
   "source": [
    "ratings.head()"
   ]
  },
  {
   "cell_type": "code",
   "execution_count": 6,
   "metadata": {},
   "outputs": [
    {
     "output_type": "execute_result",
     "data": {
      "text/plain": [
       "   movieId             title  userId  rating\n",
       "0        1  Toy Story (1995)       1     4.0\n",
       "1        1  Toy Story (1995)       5     4.0\n",
       "2        1  Toy Story (1995)       7     4.5\n",
       "3        1  Toy Story (1995)      15     2.5\n",
       "4        1  Toy Story (1995)      17     4.5"
      ],
      "text/html": "<div>\n<style scoped>\n    .dataframe tbody tr th:only-of-type {\n        vertical-align: middle;\n    }\n\n    .dataframe tbody tr th {\n        vertical-align: top;\n    }\n\n    .dataframe thead th {\n        text-align: right;\n    }\n</style>\n<table border=\"1\" class=\"dataframe\">\n  <thead>\n    <tr style=\"text-align: right;\">\n      <th></th>\n      <th>movieId</th>\n      <th>title</th>\n      <th>userId</th>\n      <th>rating</th>\n    </tr>\n  </thead>\n  <tbody>\n    <tr>\n      <th>0</th>\n      <td>1</td>\n      <td>Toy Story (1995)</td>\n      <td>1</td>\n      <td>4.0</td>\n    </tr>\n    <tr>\n      <th>1</th>\n      <td>1</td>\n      <td>Toy Story (1995)</td>\n      <td>5</td>\n      <td>4.0</td>\n    </tr>\n    <tr>\n      <th>2</th>\n      <td>1</td>\n      <td>Toy Story (1995)</td>\n      <td>7</td>\n      <td>4.5</td>\n    </tr>\n    <tr>\n      <th>3</th>\n      <td>1</td>\n      <td>Toy Story (1995)</td>\n      <td>15</td>\n      <td>2.5</td>\n    </tr>\n    <tr>\n      <th>4</th>\n      <td>1</td>\n      <td>Toy Story (1995)</td>\n      <td>17</td>\n      <td>4.5</td>\n    </tr>\n  </tbody>\n</table>\n</div>"
     },
     "metadata": {},
     "execution_count": 6
    }
   ],
   "source": [
    "df = df.drop(['genres', 'timestamp'], axis=1)\n",
    "df.head()"
   ]
  },
  {
   "cell_type": "code",
   "execution_count": 7,
   "metadata": {},
   "outputs": [
    {
     "output_type": "execute_result",
     "data": {
      "text/plain": [
       "title   '71 (2014)  ...  À nous la liberté (Freedom for Us) (1931)\n",
       "userId              ...                                           \n",
       "1              NaN  ...                                        NaN\n",
       "2              NaN  ...                                        NaN\n",
       "3              NaN  ...                                        NaN\n",
       "4              NaN  ...                                        NaN\n",
       "5              NaN  ...                                        NaN\n",
       "\n",
       "[5 rows x 9719 columns]"
      ],
      "text/html": "<div>\n<style scoped>\n    .dataframe tbody tr th:only-of-type {\n        vertical-align: middle;\n    }\n\n    .dataframe tbody tr th {\n        vertical-align: top;\n    }\n\n    .dataframe thead th {\n        text-align: right;\n    }\n</style>\n<table border=\"1\" class=\"dataframe\">\n  <thead>\n    <tr style=\"text-align: right;\">\n      <th>title</th>\n      <th>'71 (2014)</th>\n      <th>'Hellboy': The Seeds of Creation (2004)</th>\n      <th>'Round Midnight (1986)</th>\n      <th>'Salem's Lot (2004)</th>\n      <th>'Til There Was You (1997)</th>\n      <th>'Tis the Season for Love (2015)</th>\n      <th>'burbs, The (1989)</th>\n      <th>'night Mother (1986)</th>\n      <th>(500) Days of Summer (2009)</th>\n      <th>*batteries not included (1987)</th>\n      <th>...All the Marbles (1981)</th>\n      <th>...And Justice for All (1979)</th>\n      <th>00 Schneider - Jagd auf Nihil Baxter (1994)</th>\n      <th>1-900 (06) (1994)</th>\n      <th>10 (1979)</th>\n      <th>10 Cent Pistol (2015)</th>\n      <th>10 Cloverfield Lane (2016)</th>\n      <th>10 Items or Less (2006)</th>\n      <th>10 Things I Hate About You (1999)</th>\n      <th>10 Years (2011)</th>\n      <th>10,000 BC (2008)</th>\n      <th>100 Girls (2000)</th>\n      <th>100 Streets (2016)</th>\n      <th>101 Dalmatians (1996)</th>\n      <th>101 Dalmatians (One Hundred and One Dalmatians) (1961)</th>\n      <th>101 Dalmatians II: Patch's London Adventure (2003)</th>\n      <th>101 Reykjavik (101 Reykjavík) (2000)</th>\n      <th>102 Dalmatians (2000)</th>\n      <th>10th &amp; Wolf (2006)</th>\n      <th>10th Kingdom, The (2000)</th>\n      <th>10th Victim, The (La decima vittima) (1965)</th>\n      <th>11'09\"01 - September 11 (2002)</th>\n      <th>11:14 (2003)</th>\n      <th>11th Hour, The (2007)</th>\n      <th>12 Angry Men (1957)</th>\n      <th>12 Angry Men (1997)</th>\n      <th>12 Chairs (1971)</th>\n      <th>12 Chairs (1976)</th>\n      <th>12 Rounds (2009)</th>\n      <th>12 Years a Slave (2013)</th>\n      <th>...</th>\n      <th>Zathura (2005)</th>\n      <th>Zatoichi and the Chest of Gold (Zatôichi senryô-kubi) (Zatôichi 6) (1964)</th>\n      <th>Zazie dans le métro (1960)</th>\n      <th>Zebraman (2004)</th>\n      <th>Zed &amp; Two Noughts, A (1985)</th>\n      <th>Zeitgeist: Addendum (2008)</th>\n      <th>Zeitgeist: Moving Forward (2011)</th>\n      <th>Zeitgeist: The Movie (2007)</th>\n      <th>Zelary (2003)</th>\n      <th>Zelig (1983)</th>\n      <th>Zero Dark Thirty (2012)</th>\n      <th>Zero Effect (1998)</th>\n      <th>Zero Theorem, The (2013)</th>\n      <th>Zero de conduite (Zero for Conduct) (Zéro de conduite: Jeunes diables au collège) (1933)</th>\n      <th>Zeus and Roxanne (1997)</th>\n      <th>Zipper (2015)</th>\n      <th>Zodiac (2007)</th>\n      <th>Zombeavers (2014)</th>\n      <th>Zombie (a.k.a. Zombie 2: The Dead Are Among Us) (Zombi 2) (1979)</th>\n      <th>Zombie Strippers! (2008)</th>\n      <th>Zombieland (2009)</th>\n      <th>Zone 39 (1997)</th>\n      <th>Zone, The (La Zona) (2007)</th>\n      <th>Zookeeper (2011)</th>\n      <th>Zoolander (2001)</th>\n      <th>Zoolander 2 (2016)</th>\n      <th>Zoom (2006)</th>\n      <th>Zoom (2015)</th>\n      <th>Zootopia (2016)</th>\n      <th>Zulu (1964)</th>\n      <th>Zulu (2013)</th>\n      <th>[REC] (2007)</th>\n      <th>[REC]² (2009)</th>\n      <th>[REC]³ 3 Génesis (2012)</th>\n      <th>anohana: The Flower We Saw That Day - The Movie (2013)</th>\n      <th>eXistenZ (1999)</th>\n      <th>xXx (2002)</th>\n      <th>xXx: State of the Union (2005)</th>\n      <th>¡Three Amigos! (1986)</th>\n      <th>À nous la liberté (Freedom for Us) (1931)</th>\n    </tr>\n    <tr>\n      <th>userId</th>\n      <th></th>\n      <th></th>\n      <th></th>\n      <th></th>\n      <th></th>\n      <th></th>\n      <th></th>\n      <th></th>\n      <th></th>\n      <th></th>\n      <th></th>\n      <th></th>\n      <th></th>\n      <th></th>\n      <th></th>\n      <th></th>\n      <th></th>\n      <th></th>\n      <th></th>\n      <th></th>\n      <th></th>\n      <th></th>\n      <th></th>\n      <th></th>\n      <th></th>\n      <th></th>\n      <th></th>\n      <th></th>\n      <th></th>\n      <th></th>\n      <th></th>\n      <th></th>\n      <th></th>\n      <th></th>\n      <th></th>\n      <th></th>\n      <th></th>\n      <th></th>\n      <th></th>\n      <th></th>\n      <th></th>\n      <th></th>\n      <th></th>\n      <th></th>\n      <th></th>\n      <th></th>\n      <th></th>\n      <th></th>\n      <th></th>\n      <th></th>\n      <th></th>\n      <th></th>\n      <th></th>\n      <th></th>\n      <th></th>\n      <th></th>\n      <th></th>\n      <th></th>\n      <th></th>\n      <th></th>\n      <th></th>\n      <th></th>\n      <th></th>\n      <th></th>\n      <th></th>\n      <th></th>\n      <th></th>\n      <th></th>\n      <th></th>\n      <th></th>\n      <th></th>\n      <th></th>\n      <th></th>\n      <th></th>\n      <th></th>\n      <th></th>\n      <th></th>\n      <th></th>\n      <th></th>\n      <th></th>\n      <th></th>\n    </tr>\n  </thead>\n  <tbody>\n    <tr>\n      <th>1</th>\n      <td>NaN</td>\n      <td>NaN</td>\n      <td>NaN</td>\n      <td>NaN</td>\n      <td>NaN</td>\n      <td>NaN</td>\n      <td>NaN</td>\n      <td>NaN</td>\n      <td>NaN</td>\n      <td>NaN</td>\n      <td>NaN</td>\n      <td>NaN</td>\n      <td>NaN</td>\n      <td>NaN</td>\n      <td>NaN</td>\n      <td>NaN</td>\n      <td>NaN</td>\n      <td>NaN</td>\n      <td>NaN</td>\n      <td>NaN</td>\n      <td>NaN</td>\n      <td>NaN</td>\n      <td>NaN</td>\n      <td>NaN</td>\n      <td>NaN</td>\n      <td>NaN</td>\n      <td>NaN</td>\n      <td>NaN</td>\n      <td>NaN</td>\n      <td>NaN</td>\n      <td>NaN</td>\n      <td>NaN</td>\n      <td>NaN</td>\n      <td>NaN</td>\n      <td>NaN</td>\n      <td>NaN</td>\n      <td>NaN</td>\n      <td>NaN</td>\n      <td>NaN</td>\n      <td>NaN</td>\n      <td>...</td>\n      <td>NaN</td>\n      <td>NaN</td>\n      <td>NaN</td>\n      <td>NaN</td>\n      <td>NaN</td>\n      <td>NaN</td>\n      <td>NaN</td>\n      <td>NaN</td>\n      <td>NaN</td>\n      <td>NaN</td>\n      <td>NaN</td>\n      <td>NaN</td>\n      <td>NaN</td>\n      <td>NaN</td>\n      <td>NaN</td>\n      <td>NaN</td>\n      <td>NaN</td>\n      <td>NaN</td>\n      <td>NaN</td>\n      <td>NaN</td>\n      <td>NaN</td>\n      <td>NaN</td>\n      <td>NaN</td>\n      <td>NaN</td>\n      <td>NaN</td>\n      <td>NaN</td>\n      <td>NaN</td>\n      <td>NaN</td>\n      <td>NaN</td>\n      <td>NaN</td>\n      <td>NaN</td>\n      <td>NaN</td>\n      <td>NaN</td>\n      <td>NaN</td>\n      <td>NaN</td>\n      <td>NaN</td>\n      <td>NaN</td>\n      <td>NaN</td>\n      <td>4.0</td>\n      <td>NaN</td>\n    </tr>\n    <tr>\n      <th>2</th>\n      <td>NaN</td>\n      <td>NaN</td>\n      <td>NaN</td>\n      <td>NaN</td>\n      <td>NaN</td>\n      <td>NaN</td>\n      <td>NaN</td>\n      <td>NaN</td>\n      <td>NaN</td>\n      <td>NaN</td>\n      <td>NaN</td>\n      <td>NaN</td>\n      <td>NaN</td>\n      <td>NaN</td>\n      <td>NaN</td>\n      <td>NaN</td>\n      <td>NaN</td>\n      <td>NaN</td>\n      <td>NaN</td>\n      <td>NaN</td>\n      <td>NaN</td>\n      <td>NaN</td>\n      <td>NaN</td>\n      <td>NaN</td>\n      <td>NaN</td>\n      <td>NaN</td>\n      <td>NaN</td>\n      <td>NaN</td>\n      <td>NaN</td>\n      <td>NaN</td>\n      <td>NaN</td>\n      <td>NaN</td>\n      <td>NaN</td>\n      <td>NaN</td>\n      <td>NaN</td>\n      <td>NaN</td>\n      <td>NaN</td>\n      <td>NaN</td>\n      <td>NaN</td>\n      <td>NaN</td>\n      <td>...</td>\n      <td>NaN</td>\n      <td>NaN</td>\n      <td>NaN</td>\n      <td>NaN</td>\n      <td>NaN</td>\n      <td>NaN</td>\n      <td>NaN</td>\n      <td>NaN</td>\n      <td>NaN</td>\n      <td>NaN</td>\n      <td>NaN</td>\n      <td>NaN</td>\n      <td>NaN</td>\n      <td>NaN</td>\n      <td>NaN</td>\n      <td>NaN</td>\n      <td>NaN</td>\n      <td>NaN</td>\n      <td>NaN</td>\n      <td>NaN</td>\n      <td>3.0</td>\n      <td>NaN</td>\n      <td>NaN</td>\n      <td>NaN</td>\n      <td>NaN</td>\n      <td>NaN</td>\n      <td>NaN</td>\n      <td>NaN</td>\n      <td>NaN</td>\n      <td>NaN</td>\n      <td>NaN</td>\n      <td>NaN</td>\n      <td>NaN</td>\n      <td>NaN</td>\n      <td>NaN</td>\n      <td>NaN</td>\n      <td>NaN</td>\n      <td>NaN</td>\n      <td>NaN</td>\n      <td>NaN</td>\n    </tr>\n    <tr>\n      <th>3</th>\n      <td>NaN</td>\n      <td>NaN</td>\n      <td>NaN</td>\n      <td>NaN</td>\n      <td>NaN</td>\n      <td>NaN</td>\n      <td>NaN</td>\n      <td>NaN</td>\n      <td>NaN</td>\n      <td>NaN</td>\n      <td>NaN</td>\n      <td>NaN</td>\n      <td>NaN</td>\n      <td>NaN</td>\n      <td>NaN</td>\n      <td>NaN</td>\n      <td>NaN</td>\n      <td>NaN</td>\n      <td>NaN</td>\n      <td>NaN</td>\n      <td>NaN</td>\n      <td>NaN</td>\n      <td>NaN</td>\n      <td>NaN</td>\n      <td>NaN</td>\n      <td>NaN</td>\n      <td>NaN</td>\n      <td>NaN</td>\n      <td>NaN</td>\n      <td>NaN</td>\n      <td>NaN</td>\n      <td>NaN</td>\n      <td>NaN</td>\n      <td>NaN</td>\n      <td>NaN</td>\n      <td>NaN</td>\n      <td>NaN</td>\n      <td>NaN</td>\n      <td>NaN</td>\n      <td>NaN</td>\n      <td>...</td>\n      <td>NaN</td>\n      <td>NaN</td>\n      <td>NaN</td>\n      <td>NaN</td>\n      <td>NaN</td>\n      <td>NaN</td>\n      <td>NaN</td>\n      <td>NaN</td>\n      <td>NaN</td>\n      <td>NaN</td>\n      <td>NaN</td>\n      <td>NaN</td>\n      <td>NaN</td>\n      <td>NaN</td>\n      <td>NaN</td>\n      <td>NaN</td>\n      <td>NaN</td>\n      <td>NaN</td>\n      <td>NaN</td>\n      <td>NaN</td>\n      <td>NaN</td>\n      <td>NaN</td>\n      <td>NaN</td>\n      <td>NaN</td>\n      <td>NaN</td>\n      <td>NaN</td>\n      <td>NaN</td>\n      <td>NaN</td>\n      <td>NaN</td>\n      <td>NaN</td>\n      <td>NaN</td>\n      <td>NaN</td>\n      <td>NaN</td>\n      <td>NaN</td>\n      <td>NaN</td>\n      <td>NaN</td>\n      <td>NaN</td>\n      <td>NaN</td>\n      <td>NaN</td>\n      <td>NaN</td>\n    </tr>\n    <tr>\n      <th>4</th>\n      <td>NaN</td>\n      <td>NaN</td>\n      <td>NaN</td>\n      <td>NaN</td>\n      <td>NaN</td>\n      <td>NaN</td>\n      <td>NaN</td>\n      <td>NaN</td>\n      <td>NaN</td>\n      <td>NaN</td>\n      <td>NaN</td>\n      <td>NaN</td>\n      <td>NaN</td>\n      <td>NaN</td>\n      <td>NaN</td>\n      <td>NaN</td>\n      <td>NaN</td>\n      <td>NaN</td>\n      <td>NaN</td>\n      <td>NaN</td>\n      <td>NaN</td>\n      <td>NaN</td>\n      <td>NaN</td>\n      <td>NaN</td>\n      <td>NaN</td>\n      <td>NaN</td>\n      <td>NaN</td>\n      <td>NaN</td>\n      <td>NaN</td>\n      <td>NaN</td>\n      <td>NaN</td>\n      <td>NaN</td>\n      <td>NaN</td>\n      <td>NaN</td>\n      <td>5.0</td>\n      <td>NaN</td>\n      <td>NaN</td>\n      <td>NaN</td>\n      <td>NaN</td>\n      <td>NaN</td>\n      <td>...</td>\n      <td>NaN</td>\n      <td>NaN</td>\n      <td>NaN</td>\n      <td>NaN</td>\n      <td>NaN</td>\n      <td>NaN</td>\n      <td>NaN</td>\n      <td>NaN</td>\n      <td>NaN</td>\n      <td>NaN</td>\n      <td>NaN</td>\n      <td>NaN</td>\n      <td>NaN</td>\n      <td>NaN</td>\n      <td>NaN</td>\n      <td>NaN</td>\n      <td>NaN</td>\n      <td>NaN</td>\n      <td>NaN</td>\n      <td>NaN</td>\n      <td>NaN</td>\n      <td>NaN</td>\n      <td>NaN</td>\n      <td>NaN</td>\n      <td>NaN</td>\n      <td>NaN</td>\n      <td>NaN</td>\n      <td>NaN</td>\n      <td>NaN</td>\n      <td>NaN</td>\n      <td>NaN</td>\n      <td>NaN</td>\n      <td>NaN</td>\n      <td>NaN</td>\n      <td>NaN</td>\n      <td>NaN</td>\n      <td>NaN</td>\n      <td>NaN</td>\n      <td>NaN</td>\n      <td>NaN</td>\n    </tr>\n    <tr>\n      <th>5</th>\n      <td>NaN</td>\n      <td>NaN</td>\n      <td>NaN</td>\n      <td>NaN</td>\n      <td>NaN</td>\n      <td>NaN</td>\n      <td>NaN</td>\n      <td>NaN</td>\n      <td>NaN</td>\n      <td>NaN</td>\n      <td>NaN</td>\n      <td>NaN</td>\n      <td>NaN</td>\n      <td>NaN</td>\n      <td>NaN</td>\n      <td>NaN</td>\n      <td>NaN</td>\n      <td>NaN</td>\n      <td>NaN</td>\n      <td>NaN</td>\n      <td>NaN</td>\n      <td>NaN</td>\n      <td>NaN</td>\n      <td>NaN</td>\n      <td>NaN</td>\n      <td>NaN</td>\n      <td>NaN</td>\n      <td>NaN</td>\n      <td>NaN</td>\n      <td>NaN</td>\n      <td>NaN</td>\n      <td>NaN</td>\n      <td>NaN</td>\n      <td>NaN</td>\n      <td>NaN</td>\n      <td>NaN</td>\n      <td>NaN</td>\n      <td>NaN</td>\n      <td>NaN</td>\n      <td>NaN</td>\n      <td>...</td>\n      <td>NaN</td>\n      <td>NaN</td>\n      <td>NaN</td>\n      <td>NaN</td>\n      <td>NaN</td>\n      <td>NaN</td>\n      <td>NaN</td>\n      <td>NaN</td>\n      <td>NaN</td>\n      <td>NaN</td>\n      <td>NaN</td>\n      <td>NaN</td>\n      <td>NaN</td>\n      <td>NaN</td>\n      <td>NaN</td>\n      <td>NaN</td>\n      <td>NaN</td>\n      <td>NaN</td>\n      <td>NaN</td>\n      <td>NaN</td>\n      <td>NaN</td>\n      <td>NaN</td>\n      <td>NaN</td>\n      <td>NaN</td>\n      <td>NaN</td>\n      <td>NaN</td>\n      <td>NaN</td>\n      <td>NaN</td>\n      <td>NaN</td>\n      <td>NaN</td>\n      <td>NaN</td>\n      <td>NaN</td>\n      <td>NaN</td>\n      <td>NaN</td>\n      <td>NaN</td>\n      <td>NaN</td>\n      <td>NaN</td>\n      <td>NaN</td>\n      <td>NaN</td>\n      <td>NaN</td>\n    </tr>\n  </tbody>\n</table>\n<p>5 rows × 9719 columns</p>\n</div>"
     },
     "metadata": {},
     "execution_count": 7
    }
   ],
   "source": [
    "pivot_df = df.pivot_table(index=['userId'], columns=['title'], values='rating')\n",
    "pivot_df.head()"
   ]
  },
  {
   "cell_type": "code",
   "execution_count": 8,
   "metadata": {},
   "outputs": [
    {
     "output_type": "execute_result",
     "data": {
      "text/plain": [
       "(610, 9719)"
      ]
     },
     "metadata": {},
     "execution_count": 8
    }
   ],
   "source": [
    "pivot_df.shape #610(users)x9719(movies)"
   ]
  },
  {
   "cell_type": "code",
   "execution_count": 10,
   "metadata": {},
   "outputs": [
    {
     "output_type": "stream",
     "name": "stdout",
     "text": [
      "(610, 2269)\n"
     ]
    },
    {
     "output_type": "execute_result",
     "data": {
      "text/plain": [
       "title   'burbs, The (1989)  ...  ¡Three Amigos! (1986)\n",
       "userId                      ...                       \n",
       "1                      0.0  ...                    4.0\n",
       "2                      0.0  ...                    0.0\n",
       "3                      0.0  ...                    0.0\n",
       "4                      0.0  ...                    0.0\n",
       "5                      0.0  ...                    0.0\n",
       "\n",
       "[5 rows x 2269 columns]"
      ],
      "text/html": "<div>\n<style scoped>\n    .dataframe tbody tr th:only-of-type {\n        vertical-align: middle;\n    }\n\n    .dataframe tbody tr th {\n        vertical-align: top;\n    }\n\n    .dataframe thead th {\n        text-align: right;\n    }\n</style>\n<table border=\"1\" class=\"dataframe\">\n  <thead>\n    <tr style=\"text-align: right;\">\n      <th>title</th>\n      <th>'burbs, The (1989)</th>\n      <th>(500) Days of Summer (2009)</th>\n      <th>10 Cloverfield Lane (2016)</th>\n      <th>10 Things I Hate About You (1999)</th>\n      <th>10,000 BC (2008)</th>\n      <th>101 Dalmatians (1996)</th>\n      <th>101 Dalmatians (One Hundred and One Dalmatians) (1961)</th>\n      <th>12 Angry Men (1957)</th>\n      <th>12 Years a Slave (2013)</th>\n      <th>127 Hours (2010)</th>\n      <th>13 Going on 30 (2004)</th>\n      <th>13th Warrior, The (1999)</th>\n      <th>1408 (2007)</th>\n      <th>15 Minutes (2001)</th>\n      <th>17 Again (2009)</th>\n      <th>1984 (Nineteen Eighty-Four) (1984)</th>\n      <th>2 Days in the Valley (1996)</th>\n      <th>2 Fast 2 Furious (Fast and the Furious 2, The) (2003)</th>\n      <th>20,000 Leagues Under the Sea (1954)</th>\n      <th>2001: A Space Odyssey (1968)</th>\n      <th>2010: The Year We Make Contact (1984)</th>\n      <th>2012 (2009)</th>\n      <th>21 (2008)</th>\n      <th>21 Grams (2003)</th>\n      <th>21 Jump Street (2012)</th>\n      <th>22 Jump Street (2014)</th>\n      <th>25th Hour (2002)</th>\n      <th>27 Dresses (2008)</th>\n      <th>28 Days (2000)</th>\n      <th>28 Days Later (2002)</th>\n      <th>28 Weeks Later (2007)</th>\n      <th>30 Days of Night (2007)</th>\n      <th>300 (2007)</th>\n      <th>39 Steps, The (1935)</th>\n      <th>3:10 to Yuma (2007)</th>\n      <th>40 Days and 40 Nights (2002)</th>\n      <th>40-Year-Old Virgin, The (2005)</th>\n      <th>400 Blows, The (Les quatre cents coups) (1959)</th>\n      <th>48 Hrs. (1982)</th>\n      <th>50 First Dates (2004)</th>\n      <th>...</th>\n      <th>Wolf of Wall Street, The (2013)</th>\n      <th>Wolverine, The (2013)</th>\n      <th>Women on the Verge of a Nervous Breakdown (Mujeres al borde de un ataque de nervios) (1988)</th>\n      <th>Wonder Boys (2000)</th>\n      <th>Wonder Woman (2017)</th>\n      <th>Working Girl (1988)</th>\n      <th>World Is Not Enough, The (1999)</th>\n      <th>World War Z (2013)</th>\n      <th>World's End, The (2013)</th>\n      <th>Wreck-It Ralph (2012)</th>\n      <th>Wrestler, The (2008)</th>\n      <th>Wyatt Earp (1994)</th>\n      <th>X-Files: Fight the Future, The (1998)</th>\n      <th>X-Men (2000)</th>\n      <th>X-Men Origins: Wolverine (2009)</th>\n      <th>X-Men: Apocalypse (2016)</th>\n      <th>X-Men: Days of Future Past (2014)</th>\n      <th>X-Men: First Class (2011)</th>\n      <th>X-Men: The Last Stand (2006)</th>\n      <th>X2: X-Men United (2003)</th>\n      <th>Yellow Submarine (1968)</th>\n      <th>Yes Man (2008)</th>\n      <th>Yojimbo (1961)</th>\n      <th>You Don't Mess with the Zohan (2008)</th>\n      <th>You Only Live Twice (1967)</th>\n      <th>You've Got Mail (1998)</th>\n      <th>Young Frankenstein (1974)</th>\n      <th>Young Guns (1988)</th>\n      <th>Young Guns II (1990)</th>\n      <th>Young Sherlock Holmes (1985)</th>\n      <th>Zack and Miri Make a Porno (2008)</th>\n      <th>Zero Dark Thirty (2012)</th>\n      <th>Zero Effect (1998)</th>\n      <th>Zodiac (2007)</th>\n      <th>Zombieland (2009)</th>\n      <th>Zoolander (2001)</th>\n      <th>Zootopia (2016)</th>\n      <th>eXistenZ (1999)</th>\n      <th>xXx (2002)</th>\n      <th>¡Three Amigos! (1986)</th>\n    </tr>\n    <tr>\n      <th>userId</th>\n      <th></th>\n      <th></th>\n      <th></th>\n      <th></th>\n      <th></th>\n      <th></th>\n      <th></th>\n      <th></th>\n      <th></th>\n      <th></th>\n      <th></th>\n      <th></th>\n      <th></th>\n      <th></th>\n      <th></th>\n      <th></th>\n      <th></th>\n      <th></th>\n      <th></th>\n      <th></th>\n      <th></th>\n      <th></th>\n      <th></th>\n      <th></th>\n      <th></th>\n      <th></th>\n      <th></th>\n      <th></th>\n      <th></th>\n      <th></th>\n      <th></th>\n      <th></th>\n      <th></th>\n      <th></th>\n      <th></th>\n      <th></th>\n      <th></th>\n      <th></th>\n      <th></th>\n      <th></th>\n      <th></th>\n      <th></th>\n      <th></th>\n      <th></th>\n      <th></th>\n      <th></th>\n      <th></th>\n      <th></th>\n      <th></th>\n      <th></th>\n      <th></th>\n      <th></th>\n      <th></th>\n      <th></th>\n      <th></th>\n      <th></th>\n      <th></th>\n      <th></th>\n      <th></th>\n      <th></th>\n      <th></th>\n      <th></th>\n      <th></th>\n      <th></th>\n      <th></th>\n      <th></th>\n      <th></th>\n      <th></th>\n      <th></th>\n      <th></th>\n      <th></th>\n      <th></th>\n      <th></th>\n      <th></th>\n      <th></th>\n      <th></th>\n      <th></th>\n      <th></th>\n      <th></th>\n      <th></th>\n      <th></th>\n    </tr>\n  </thead>\n  <tbody>\n    <tr>\n      <th>1</th>\n      <td>0.0</td>\n      <td>0.0</td>\n      <td>0.0</td>\n      <td>0.0</td>\n      <td>0.0</td>\n      <td>0.0</td>\n      <td>0.0</td>\n      <td>0.0</td>\n      <td>0.0</td>\n      <td>0.0</td>\n      <td>0.0</td>\n      <td>4.0</td>\n      <td>0.0</td>\n      <td>0.0</td>\n      <td>0.0</td>\n      <td>0.0</td>\n      <td>0.0</td>\n      <td>0.0</td>\n      <td>0.0</td>\n      <td>0.0</td>\n      <td>0.0</td>\n      <td>0.0</td>\n      <td>0.0</td>\n      <td>0.0</td>\n      <td>0.0</td>\n      <td>0.0</td>\n      <td>0.0</td>\n      <td>0.0</td>\n      <td>0.0</td>\n      <td>0.0</td>\n      <td>0.0</td>\n      <td>0.0</td>\n      <td>0.0</td>\n      <td>0.0</td>\n      <td>0.0</td>\n      <td>0.0</td>\n      <td>0.0</td>\n      <td>0.0</td>\n      <td>0.0</td>\n      <td>0.0</td>\n      <td>...</td>\n      <td>0.0</td>\n      <td>0.0</td>\n      <td>0.0</td>\n      <td>0.0</td>\n      <td>0.0</td>\n      <td>0.0</td>\n      <td>0.0</td>\n      <td>0.0</td>\n      <td>0.0</td>\n      <td>0.0</td>\n      <td>0.0</td>\n      <td>0.0</td>\n      <td>0.0</td>\n      <td>5.0</td>\n      <td>0.0</td>\n      <td>0.0</td>\n      <td>0.0</td>\n      <td>0.0</td>\n      <td>0.0</td>\n      <td>0.0</td>\n      <td>0.0</td>\n      <td>0.0</td>\n      <td>0.0</td>\n      <td>0.0</td>\n      <td>0.0</td>\n      <td>0.0</td>\n      <td>5.0</td>\n      <td>0.0</td>\n      <td>0.0</td>\n      <td>3.0</td>\n      <td>0.0</td>\n      <td>0.0</td>\n      <td>0.0</td>\n      <td>0.0</td>\n      <td>0.0</td>\n      <td>0.0</td>\n      <td>0.0</td>\n      <td>0.0</td>\n      <td>0.0</td>\n      <td>4.0</td>\n    </tr>\n    <tr>\n      <th>2</th>\n      <td>0.0</td>\n      <td>0.0</td>\n      <td>0.0</td>\n      <td>0.0</td>\n      <td>0.0</td>\n      <td>0.0</td>\n      <td>0.0</td>\n      <td>0.0</td>\n      <td>0.0</td>\n      <td>0.0</td>\n      <td>0.0</td>\n      <td>0.0</td>\n      <td>0.0</td>\n      <td>0.0</td>\n      <td>0.0</td>\n      <td>0.0</td>\n      <td>0.0</td>\n      <td>0.0</td>\n      <td>0.0</td>\n      <td>0.0</td>\n      <td>0.0</td>\n      <td>0.0</td>\n      <td>0.0</td>\n      <td>0.0</td>\n      <td>0.0</td>\n      <td>0.0</td>\n      <td>0.0</td>\n      <td>0.0</td>\n      <td>0.0</td>\n      <td>0.0</td>\n      <td>0.0</td>\n      <td>0.0</td>\n      <td>0.0</td>\n      <td>0.0</td>\n      <td>0.0</td>\n      <td>0.0</td>\n      <td>0.0</td>\n      <td>0.0</td>\n      <td>0.0</td>\n      <td>0.0</td>\n      <td>...</td>\n      <td>5.0</td>\n      <td>0.0</td>\n      <td>0.0</td>\n      <td>0.0</td>\n      <td>0.0</td>\n      <td>0.0</td>\n      <td>0.0</td>\n      <td>0.0</td>\n      <td>0.0</td>\n      <td>0.0</td>\n      <td>0.0</td>\n      <td>0.0</td>\n      <td>0.0</td>\n      <td>0.0</td>\n      <td>0.0</td>\n      <td>0.0</td>\n      <td>0.0</td>\n      <td>0.0</td>\n      <td>0.0</td>\n      <td>0.0</td>\n      <td>0.0</td>\n      <td>0.0</td>\n      <td>0.0</td>\n      <td>0.0</td>\n      <td>0.0</td>\n      <td>0.0</td>\n      <td>0.0</td>\n      <td>0.0</td>\n      <td>0.0</td>\n      <td>0.0</td>\n      <td>0.0</td>\n      <td>0.0</td>\n      <td>0.0</td>\n      <td>0.0</td>\n      <td>3.0</td>\n      <td>0.0</td>\n      <td>0.0</td>\n      <td>0.0</td>\n      <td>0.0</td>\n      <td>0.0</td>\n    </tr>\n    <tr>\n      <th>3</th>\n      <td>0.0</td>\n      <td>0.0</td>\n      <td>0.0</td>\n      <td>0.0</td>\n      <td>0.0</td>\n      <td>0.0</td>\n      <td>0.0</td>\n      <td>0.0</td>\n      <td>0.0</td>\n      <td>0.0</td>\n      <td>0.0</td>\n      <td>0.0</td>\n      <td>0.0</td>\n      <td>0.0</td>\n      <td>0.0</td>\n      <td>0.0</td>\n      <td>0.0</td>\n      <td>0.0</td>\n      <td>0.0</td>\n      <td>0.0</td>\n      <td>0.0</td>\n      <td>0.5</td>\n      <td>0.0</td>\n      <td>0.0</td>\n      <td>0.0</td>\n      <td>0.0</td>\n      <td>0.0</td>\n      <td>0.0</td>\n      <td>0.0</td>\n      <td>0.0</td>\n      <td>0.0</td>\n      <td>0.0</td>\n      <td>0.0</td>\n      <td>0.0</td>\n      <td>0.0</td>\n      <td>0.0</td>\n      <td>0.0</td>\n      <td>0.0</td>\n      <td>0.0</td>\n      <td>0.0</td>\n      <td>...</td>\n      <td>0.0</td>\n      <td>0.0</td>\n      <td>0.0</td>\n      <td>0.0</td>\n      <td>0.0</td>\n      <td>0.0</td>\n      <td>0.0</td>\n      <td>0.0</td>\n      <td>0.0</td>\n      <td>0.0</td>\n      <td>0.0</td>\n      <td>0.0</td>\n      <td>0.0</td>\n      <td>0.0</td>\n      <td>0.0</td>\n      <td>0.0</td>\n      <td>0.0</td>\n      <td>0.0</td>\n      <td>0.0</td>\n      <td>0.0</td>\n      <td>0.0</td>\n      <td>0.0</td>\n      <td>0.0</td>\n      <td>0.0</td>\n      <td>0.0</td>\n      <td>0.5</td>\n      <td>0.0</td>\n      <td>0.0</td>\n      <td>0.0</td>\n      <td>0.0</td>\n      <td>0.0</td>\n      <td>0.0</td>\n      <td>0.0</td>\n      <td>0.0</td>\n      <td>0.0</td>\n      <td>0.0</td>\n      <td>0.0</td>\n      <td>0.0</td>\n      <td>0.0</td>\n      <td>0.0</td>\n    </tr>\n    <tr>\n      <th>4</th>\n      <td>0.0</td>\n      <td>0.0</td>\n      <td>0.0</td>\n      <td>0.0</td>\n      <td>0.0</td>\n      <td>0.0</td>\n      <td>0.0</td>\n      <td>5.0</td>\n      <td>0.0</td>\n      <td>0.0</td>\n      <td>0.0</td>\n      <td>0.0</td>\n      <td>0.0</td>\n      <td>0.0</td>\n      <td>0.0</td>\n      <td>0.0</td>\n      <td>0.0</td>\n      <td>0.0</td>\n      <td>0.0</td>\n      <td>0.0</td>\n      <td>0.0</td>\n      <td>0.0</td>\n      <td>0.0</td>\n      <td>0.0</td>\n      <td>0.0</td>\n      <td>0.0</td>\n      <td>0.0</td>\n      <td>0.0</td>\n      <td>0.0</td>\n      <td>0.0</td>\n      <td>0.0</td>\n      <td>0.0</td>\n      <td>0.0</td>\n      <td>0.0</td>\n      <td>0.0</td>\n      <td>0.0</td>\n      <td>0.0</td>\n      <td>0.0</td>\n      <td>0.0</td>\n      <td>0.0</td>\n      <td>...</td>\n      <td>0.0</td>\n      <td>0.0</td>\n      <td>0.0</td>\n      <td>4.0</td>\n      <td>0.0</td>\n      <td>0.0</td>\n      <td>0.0</td>\n      <td>0.0</td>\n      <td>0.0</td>\n      <td>0.0</td>\n      <td>0.0</td>\n      <td>0.0</td>\n      <td>0.0</td>\n      <td>0.0</td>\n      <td>0.0</td>\n      <td>0.0</td>\n      <td>0.0</td>\n      <td>0.0</td>\n      <td>0.0</td>\n      <td>0.0</td>\n      <td>0.0</td>\n      <td>0.0</td>\n      <td>0.0</td>\n      <td>0.0</td>\n      <td>0.0</td>\n      <td>0.0</td>\n      <td>0.0</td>\n      <td>0.0</td>\n      <td>0.0</td>\n      <td>0.0</td>\n      <td>0.0</td>\n      <td>0.0</td>\n      <td>0.0</td>\n      <td>0.0</td>\n      <td>0.0</td>\n      <td>0.0</td>\n      <td>0.0</td>\n      <td>0.0</td>\n      <td>0.0</td>\n      <td>0.0</td>\n    </tr>\n    <tr>\n      <th>5</th>\n      <td>0.0</td>\n      <td>0.0</td>\n      <td>0.0</td>\n      <td>0.0</td>\n      <td>0.0</td>\n      <td>0.0</td>\n      <td>0.0</td>\n      <td>0.0</td>\n      <td>0.0</td>\n      <td>0.0</td>\n      <td>0.0</td>\n      <td>0.0</td>\n      <td>0.0</td>\n      <td>0.0</td>\n      <td>0.0</td>\n      <td>0.0</td>\n      <td>0.0</td>\n      <td>0.0</td>\n      <td>0.0</td>\n      <td>0.0</td>\n      <td>0.0</td>\n      <td>0.0</td>\n      <td>0.0</td>\n      <td>0.0</td>\n      <td>0.0</td>\n      <td>0.0</td>\n      <td>0.0</td>\n      <td>0.0</td>\n      <td>0.0</td>\n      <td>0.0</td>\n      <td>0.0</td>\n      <td>0.0</td>\n      <td>0.0</td>\n      <td>0.0</td>\n      <td>0.0</td>\n      <td>0.0</td>\n      <td>0.0</td>\n      <td>0.0</td>\n      <td>0.0</td>\n      <td>0.0</td>\n      <td>...</td>\n      <td>0.0</td>\n      <td>0.0</td>\n      <td>0.0</td>\n      <td>0.0</td>\n      <td>0.0</td>\n      <td>0.0</td>\n      <td>0.0</td>\n      <td>0.0</td>\n      <td>0.0</td>\n      <td>0.0</td>\n      <td>0.0</td>\n      <td>0.0</td>\n      <td>0.0</td>\n      <td>0.0</td>\n      <td>0.0</td>\n      <td>0.0</td>\n      <td>0.0</td>\n      <td>0.0</td>\n      <td>0.0</td>\n      <td>0.0</td>\n      <td>0.0</td>\n      <td>0.0</td>\n      <td>0.0</td>\n      <td>0.0</td>\n      <td>0.0</td>\n      <td>0.0</td>\n      <td>0.0</td>\n      <td>0.0</td>\n      <td>0.0</td>\n      <td>0.0</td>\n      <td>0.0</td>\n      <td>0.0</td>\n      <td>0.0</td>\n      <td>0.0</td>\n      <td>0.0</td>\n      <td>0.0</td>\n      <td>0.0</td>\n      <td>0.0</td>\n      <td>0.0</td>\n      <td>0.0</td>\n    </tr>\n  </tbody>\n</table>\n<p>5 rows × 2269 columns</p>\n</div>"
     },
     "metadata": {},
     "execution_count": 10
    }
   ],
   "source": [
    "#Remove movies with less than 10 user-ratings\n",
    "pivot_df = pivot_df.dropna(thresh=10, axis=1).fillna(0)\n",
    "print(pivot_df.shape) #(610, 2269)\n",
    "pivot_df.head()"
   ]
  },
  {
   "cell_type": "code",
   "execution_count": 32,
   "metadata": {},
   "outputs": [
    {
     "output_type": "execute_result",
     "data": {
      "text/plain": [
       "title                              'burbs, The (1989)  ...  ¡Three Amigos! (1986)\n",
       "title                                                  ...                       \n",
       "'burbs, The (1989)                           1.000000  ...               0.353194\n",
       "(500) Days of Summer (2009)                  0.063117  ...               0.125905\n",
       "10 Cloverfield Lane (2016)                  -0.023768  ...               0.002733\n",
       "10 Things I Hate About You (1999)            0.143482  ...               0.110612\n",
       "10,000 BC (2008)                             0.011998  ...               0.083518\n",
       "\n",
       "[5 rows x 2269 columns]"
      ],
      "text/html": "<div>\n<style scoped>\n    .dataframe tbody tr th:only-of-type {\n        vertical-align: middle;\n    }\n\n    .dataframe tbody tr th {\n        vertical-align: top;\n    }\n\n    .dataframe thead th {\n        text-align: right;\n    }\n</style>\n<table border=\"1\" class=\"dataframe\">\n  <thead>\n    <tr style=\"text-align: right;\">\n      <th>title</th>\n      <th>'burbs, The (1989)</th>\n      <th>(500) Days of Summer (2009)</th>\n      <th>10 Cloverfield Lane (2016)</th>\n      <th>10 Things I Hate About You (1999)</th>\n      <th>10,000 BC (2008)</th>\n      <th>101 Dalmatians (1996)</th>\n      <th>101 Dalmatians (One Hundred and One Dalmatians) (1961)</th>\n      <th>12 Angry Men (1957)</th>\n      <th>12 Years a Slave (2013)</th>\n      <th>127 Hours (2010)</th>\n      <th>13 Going on 30 (2004)</th>\n      <th>13th Warrior, The (1999)</th>\n      <th>1408 (2007)</th>\n      <th>15 Minutes (2001)</th>\n      <th>17 Again (2009)</th>\n      <th>1984 (Nineteen Eighty-Four) (1984)</th>\n      <th>2 Days in the Valley (1996)</th>\n      <th>2 Fast 2 Furious (Fast and the Furious 2, The) (2003)</th>\n      <th>20,000 Leagues Under the Sea (1954)</th>\n      <th>2001: A Space Odyssey (1968)</th>\n      <th>2010: The Year We Make Contact (1984)</th>\n      <th>2012 (2009)</th>\n      <th>21 (2008)</th>\n      <th>21 Grams (2003)</th>\n      <th>21 Jump Street (2012)</th>\n      <th>22 Jump Street (2014)</th>\n      <th>25th Hour (2002)</th>\n      <th>27 Dresses (2008)</th>\n      <th>28 Days (2000)</th>\n      <th>28 Days Later (2002)</th>\n      <th>28 Weeks Later (2007)</th>\n      <th>30 Days of Night (2007)</th>\n      <th>300 (2007)</th>\n      <th>39 Steps, The (1935)</th>\n      <th>3:10 to Yuma (2007)</th>\n      <th>40 Days and 40 Nights (2002)</th>\n      <th>40-Year-Old Virgin, The (2005)</th>\n      <th>400 Blows, The (Les quatre cents coups) (1959)</th>\n      <th>48 Hrs. (1982)</th>\n      <th>50 First Dates (2004)</th>\n      <th>...</th>\n      <th>Wolf of Wall Street, The (2013)</th>\n      <th>Wolverine, The (2013)</th>\n      <th>Women on the Verge of a Nervous Breakdown (Mujeres al borde de un ataque de nervios) (1988)</th>\n      <th>Wonder Boys (2000)</th>\n      <th>Wonder Woman (2017)</th>\n      <th>Working Girl (1988)</th>\n      <th>World Is Not Enough, The (1999)</th>\n      <th>World War Z (2013)</th>\n      <th>World's End, The (2013)</th>\n      <th>Wreck-It Ralph (2012)</th>\n      <th>Wrestler, The (2008)</th>\n      <th>Wyatt Earp (1994)</th>\n      <th>X-Files: Fight the Future, The (1998)</th>\n      <th>X-Men (2000)</th>\n      <th>X-Men Origins: Wolverine (2009)</th>\n      <th>X-Men: Apocalypse (2016)</th>\n      <th>X-Men: Days of Future Past (2014)</th>\n      <th>X-Men: First Class (2011)</th>\n      <th>X-Men: The Last Stand (2006)</th>\n      <th>X2: X-Men United (2003)</th>\n      <th>Yellow Submarine (1968)</th>\n      <th>Yes Man (2008)</th>\n      <th>Yojimbo (1961)</th>\n      <th>You Don't Mess with the Zohan (2008)</th>\n      <th>You Only Live Twice (1967)</th>\n      <th>You've Got Mail (1998)</th>\n      <th>Young Frankenstein (1974)</th>\n      <th>Young Guns (1988)</th>\n      <th>Young Guns II (1990)</th>\n      <th>Young Sherlock Holmes (1985)</th>\n      <th>Zack and Miri Make a Porno (2008)</th>\n      <th>Zero Dark Thirty (2012)</th>\n      <th>Zero Effect (1998)</th>\n      <th>Zodiac (2007)</th>\n      <th>Zombieland (2009)</th>\n      <th>Zoolander (2001)</th>\n      <th>Zootopia (2016)</th>\n      <th>eXistenZ (1999)</th>\n      <th>xXx (2002)</th>\n      <th>¡Three Amigos! (1986)</th>\n    </tr>\n    <tr>\n      <th>title</th>\n      <th></th>\n      <th></th>\n      <th></th>\n      <th></th>\n      <th></th>\n      <th></th>\n      <th></th>\n      <th></th>\n      <th></th>\n      <th></th>\n      <th></th>\n      <th></th>\n      <th></th>\n      <th></th>\n      <th></th>\n      <th></th>\n      <th></th>\n      <th></th>\n      <th></th>\n      <th></th>\n      <th></th>\n      <th></th>\n      <th></th>\n      <th></th>\n      <th></th>\n      <th></th>\n      <th></th>\n      <th></th>\n      <th></th>\n      <th></th>\n      <th></th>\n      <th></th>\n      <th></th>\n      <th></th>\n      <th></th>\n      <th></th>\n      <th></th>\n      <th></th>\n      <th></th>\n      <th></th>\n      <th></th>\n      <th></th>\n      <th></th>\n      <th></th>\n      <th></th>\n      <th></th>\n      <th></th>\n      <th></th>\n      <th></th>\n      <th></th>\n      <th></th>\n      <th></th>\n      <th></th>\n      <th></th>\n      <th></th>\n      <th></th>\n      <th></th>\n      <th></th>\n      <th></th>\n      <th></th>\n      <th></th>\n      <th></th>\n      <th></th>\n      <th></th>\n      <th></th>\n      <th></th>\n      <th></th>\n      <th></th>\n      <th></th>\n      <th></th>\n      <th></th>\n      <th></th>\n      <th></th>\n      <th></th>\n      <th></th>\n      <th></th>\n      <th></th>\n      <th></th>\n      <th></th>\n      <th></th>\n      <th></th>\n    </tr>\n  </thead>\n  <tbody>\n    <tr>\n      <th>'burbs, The (1989)</th>\n      <td>1.000000</td>\n      <td>0.063117</td>\n      <td>-0.023768</td>\n      <td>0.143482</td>\n      <td>0.011998</td>\n      <td>0.087931</td>\n      <td>0.224052</td>\n      <td>0.034223</td>\n      <td>0.009277</td>\n      <td>0.008331</td>\n      <td>0.049700</td>\n      <td>0.176071</td>\n      <td>0.131993</td>\n      <td>0.104500</td>\n      <td>0.047271</td>\n      <td>0.184452</td>\n      <td>0.092824</td>\n      <td>0.084066</td>\n      <td>0.166599</td>\n      <td>0.205977</td>\n      <td>0.187019</td>\n      <td>0.006377</td>\n      <td>-0.027152</td>\n      <td>0.035609</td>\n      <td>-0.014293</td>\n      <td>-0.027713</td>\n      <td>0.099271</td>\n      <td>-0.028021</td>\n      <td>0.107001</td>\n      <td>0.117119</td>\n      <td>-0.028967</td>\n      <td>0.144642</td>\n      <td>0.109059</td>\n      <td>0.021677</td>\n      <td>0.131405</td>\n      <td>0.115386</td>\n      <td>0.124265</td>\n      <td>-0.022021</td>\n      <td>0.255706</td>\n      <td>0.024466</td>\n      <td>...</td>\n      <td>-0.001830</td>\n      <td>0.006420</td>\n      <td>-0.019439</td>\n      <td>0.194225</td>\n      <td>0.080328</td>\n      <td>0.160591</td>\n      <td>0.061280</td>\n      <td>-0.027261</td>\n      <td>0.031088</td>\n      <td>0.043787</td>\n      <td>0.081831</td>\n      <td>0.075004</td>\n      <td>0.213522</td>\n      <td>0.195512</td>\n      <td>0.087015</td>\n      <td>0.007059</td>\n      <td>-0.011004</td>\n      <td>0.049537</td>\n      <td>0.119975</td>\n      <td>0.098020</td>\n      <td>0.115369</td>\n      <td>0.016625</td>\n      <td>0.042313</td>\n      <td>-0.023309</td>\n      <td>0.021379</td>\n      <td>0.172502</td>\n      <td>0.201374</td>\n      <td>0.248535</td>\n      <td>0.088114</td>\n      <td>0.257195</td>\n      <td>0.017477</td>\n      <td>0.032470</td>\n      <td>0.134701</td>\n      <td>0.153158</td>\n      <td>0.101301</td>\n      <td>0.049897</td>\n      <td>0.003233</td>\n      <td>0.187953</td>\n      <td>0.062174</td>\n      <td>0.353194</td>\n    </tr>\n    <tr>\n      <th>(500) Days of Summer (2009)</th>\n      <td>0.063117</td>\n      <td>1.000000</td>\n      <td>0.142471</td>\n      <td>0.273989</td>\n      <td>0.193960</td>\n      <td>0.148903</td>\n      <td>0.142141</td>\n      <td>0.159756</td>\n      <td>0.135486</td>\n      <td>0.200135</td>\n      <td>0.297152</td>\n      <td>0.072835</td>\n      <td>0.226574</td>\n      <td>0.087240</td>\n      <td>0.342948</td>\n      <td>0.038255</td>\n      <td>0.040104</td>\n      <td>0.241906</td>\n      <td>0.001739</td>\n      <td>0.113616</td>\n      <td>0.030603</td>\n      <td>0.274272</td>\n      <td>0.285043</td>\n      <td>0.094029</td>\n      <td>0.284552</td>\n      <td>0.194200</td>\n      <td>0.086447</td>\n      <td>0.205511</td>\n      <td>0.048670</td>\n      <td>0.149167</td>\n      <td>0.157145</td>\n      <td>0.249836</td>\n      <td>0.343028</td>\n      <td>-0.034688</td>\n      <td>0.252980</td>\n      <td>0.174618</td>\n      <td>0.344805</td>\n      <td>0.023625</td>\n      <td>0.156628</td>\n      <td>0.314037</td>\n      <td>...</td>\n      <td>0.241685</td>\n      <td>0.207393</td>\n      <td>0.040382</td>\n      <td>0.100958</td>\n      <td>0.225268</td>\n      <td>0.044576</td>\n      <td>0.031382</td>\n      <td>0.265563</td>\n      <td>0.303689</td>\n      <td>0.126481</td>\n      <td>0.388055</td>\n      <td>0.023020</td>\n      <td>0.031399</td>\n      <td>0.184228</td>\n      <td>0.320018</td>\n      <td>0.238263</td>\n      <td>0.288610</td>\n      <td>0.349784</td>\n      <td>0.274941</td>\n      <td>0.190061</td>\n      <td>0.034780</td>\n      <td>0.407336</td>\n      <td>0.029789</td>\n      <td>0.144834</td>\n      <td>-0.012948</td>\n      <td>0.140981</td>\n      <td>0.066077</td>\n      <td>0.073476</td>\n      <td>0.053263</td>\n      <td>0.053021</td>\n      <td>0.374515</td>\n      <td>0.178655</td>\n      <td>0.068407</td>\n      <td>0.414585</td>\n      <td>0.355723</td>\n      <td>0.252226</td>\n      <td>0.216007</td>\n      <td>0.053614</td>\n      <td>0.241092</td>\n      <td>0.125905</td>\n    </tr>\n    <tr>\n      <th>10 Cloverfield Lane (2016)</th>\n      <td>-0.023768</td>\n      <td>0.142471</td>\n      <td>1.000000</td>\n      <td>-0.005799</td>\n      <td>0.112396</td>\n      <td>0.006139</td>\n      <td>-0.016835</td>\n      <td>0.031704</td>\n      <td>-0.024275</td>\n      <td>0.272943</td>\n      <td>-0.027835</td>\n      <td>-0.029983</td>\n      <td>0.181245</td>\n      <td>0.017315</td>\n      <td>-0.019197</td>\n      <td>0.049227</td>\n      <td>-0.020711</td>\n      <td>0.097364</td>\n      <td>0.012478</td>\n      <td>0.099310</td>\n      <td>-0.025037</td>\n      <td>0.205739</td>\n      <td>0.082904</td>\n      <td>-0.030166</td>\n      <td>0.309963</td>\n      <td>0.292432</td>\n      <td>0.092291</td>\n      <td>-0.026642</td>\n      <td>-0.008488</td>\n      <td>0.228241</td>\n      <td>0.231702</td>\n      <td>0.263072</td>\n      <td>0.170440</td>\n      <td>-0.019994</td>\n      <td>0.104868</td>\n      <td>0.081960</td>\n      <td>0.145923</td>\n      <td>0.033310</td>\n      <td>0.147068</td>\n      <td>0.025681</td>\n      <td>...</td>\n      <td>0.265922</td>\n      <td>0.292261</td>\n      <td>-0.018482</td>\n      <td>0.013377</td>\n      <td>0.262404</td>\n      <td>-0.028227</td>\n      <td>0.039981</td>\n      <td>0.353156</td>\n      <td>0.507304</td>\n      <td>0.356199</td>\n      <td>0.050856</td>\n      <td>-0.002392</td>\n      <td>0.046151</td>\n      <td>0.088656</td>\n      <td>0.150322</td>\n      <td>0.241002</td>\n      <td>0.171749</td>\n      <td>0.169521</td>\n      <td>0.077695</td>\n      <td>0.095785</td>\n      <td>0.035301</td>\n      <td>0.145283</td>\n      <td>0.036295</td>\n      <td>0.106035</td>\n      <td>0.019623</td>\n      <td>0.041093</td>\n      <td>0.005034</td>\n      <td>0.004300</td>\n      <td>0.048452</td>\n      <td>0.028247</td>\n      <td>0.242663</td>\n      <td>0.099059</td>\n      <td>-0.023477</td>\n      <td>0.272347</td>\n      <td>0.241751</td>\n      <td>0.195054</td>\n      <td>0.319371</td>\n      <td>0.177846</td>\n      <td>0.096638</td>\n      <td>0.002733</td>\n    </tr>\n    <tr>\n      <th>10 Things I Hate About You (1999)</th>\n      <td>0.143482</td>\n      <td>0.273989</td>\n      <td>-0.005799</td>\n      <td>1.000000</td>\n      <td>0.244670</td>\n      <td>0.223481</td>\n      <td>0.211473</td>\n      <td>0.011784</td>\n      <td>0.091964</td>\n      <td>0.043383</td>\n      <td>0.321071</td>\n      <td>0.215828</td>\n      <td>0.069470</td>\n      <td>0.223197</td>\n      <td>0.231261</td>\n      <td>0.131719</td>\n      <td>0.084953</td>\n      <td>0.241569</td>\n      <td>-0.025007</td>\n      <td>0.085974</td>\n      <td>0.011587</td>\n      <td>0.064187</td>\n      <td>0.148407</td>\n      <td>0.092169</td>\n      <td>0.253355</td>\n      <td>0.128083</td>\n      <td>0.129941</td>\n      <td>0.294837</td>\n      <td>0.132403</td>\n      <td>0.092319</td>\n      <td>0.101060</td>\n      <td>0.281717</td>\n      <td>0.279463</td>\n      <td>0.031647</td>\n      <td>0.054965</td>\n      <td>0.169333</td>\n      <td>0.282269</td>\n      <td>0.044299</td>\n      <td>0.113891</td>\n      <td>0.260104</td>\n      <td>...</td>\n      <td>0.056012</td>\n      <td>0.067136</td>\n      <td>0.149158</td>\n      <td>0.224988</td>\n      <td>0.082442</td>\n      <td>0.203784</td>\n      <td>0.121665</td>\n      <td>0.093056</td>\n      <td>0.074804</td>\n      <td>0.087394</td>\n      <td>0.194929</td>\n      <td>0.001841</td>\n      <td>0.030461</td>\n      <td>0.182504</td>\n      <td>0.140068</td>\n      <td>0.037334</td>\n      <td>0.117008</td>\n      <td>0.122016</td>\n      <td>0.146748</td>\n      <td>0.132691</td>\n      <td>0.150333</td>\n      <td>0.103321</td>\n      <td>0.044099</td>\n      <td>0.041102</td>\n      <td>-0.041747</td>\n      <td>0.247940</td>\n      <td>0.144038</td>\n      <td>0.152333</td>\n      <td>0.045664</td>\n      <td>0.087961</td>\n      <td>0.243118</td>\n      <td>0.104858</td>\n      <td>0.132460</td>\n      <td>0.091853</td>\n      <td>0.158637</td>\n      <td>0.281934</td>\n      <td>0.050031</td>\n      <td>0.121029</td>\n      <td>0.130813</td>\n      <td>0.110612</td>\n    </tr>\n    <tr>\n      <th>10,000 BC (2008)</th>\n      <td>0.011998</td>\n      <td>0.193960</td>\n      <td>0.112396</td>\n      <td>0.244670</td>\n      <td>1.000000</td>\n      <td>0.234459</td>\n      <td>0.119132</td>\n      <td>0.059187</td>\n      <td>-0.025882</td>\n      <td>0.089328</td>\n      <td>0.167098</td>\n      <td>0.163148</td>\n      <td>0.133706</td>\n      <td>0.190482</td>\n      <td>0.174499</td>\n      <td>0.076915</td>\n      <td>0.074188</td>\n      <td>0.383957</td>\n      <td>0.062390</td>\n      <td>0.043458</td>\n      <td>0.013928</td>\n      <td>0.183503</td>\n      <td>0.150917</td>\n      <td>0.169458</td>\n      <td>0.230999</td>\n      <td>0.083669</td>\n      <td>0.007843</td>\n      <td>0.188470</td>\n      <td>0.019482</td>\n      <td>0.206790</td>\n      <td>0.189832</td>\n      <td>0.312540</td>\n      <td>0.269534</td>\n      <td>0.029504</td>\n      <td>0.156718</td>\n      <td>0.241806</td>\n      <td>0.229602</td>\n      <td>0.033181</td>\n      <td>0.085560</td>\n      <td>0.171531</td>\n      <td>...</td>\n      <td>0.087495</td>\n      <td>0.106042</td>\n      <td>-0.019705</td>\n      <td>0.015847</td>\n      <td>0.207731</td>\n      <td>0.111426</td>\n      <td>0.203455</td>\n      <td>0.271904</td>\n      <td>0.222129</td>\n      <td>0.156020</td>\n      <td>0.172540</td>\n      <td>0.006430</td>\n      <td>0.038921</td>\n      <td>0.161950</td>\n      <td>0.181842</td>\n      <td>0.061643</td>\n      <td>0.112522</td>\n      <td>0.207504</td>\n      <td>0.177663</td>\n      <td>0.149515</td>\n      <td>0.017438</td>\n      <td>0.292895</td>\n      <td>0.026758</td>\n      <td>0.158544</td>\n      <td>0.100595</td>\n      <td>0.076414</td>\n      <td>0.073007</td>\n      <td>0.065201</td>\n      <td>0.028153</td>\n      <td>0.040140</td>\n      <td>0.260261</td>\n      <td>0.087592</td>\n      <td>0.094913</td>\n      <td>0.184521</td>\n      <td>0.242299</td>\n      <td>0.240231</td>\n      <td>0.094773</td>\n      <td>0.088045</td>\n      <td>0.203002</td>\n      <td>0.083518</td>\n    </tr>\n  </tbody>\n</table>\n<p>5 rows × 2269 columns</p>\n</div>"
     },
     "metadata": {},
     "execution_count": 32
    }
   ],
   "source": [
    "movie_similarity_df = pivot_df.corr(method='pearson')\n",
    "movie_similarity_df.head()"
   ]
  },
  {
   "cell_type": "code",
   "execution_count": null,
   "metadata": {},
   "outputs": [],
   "source": []
  },
  {
   "cell_type": "code",
   "execution_count": 37,
   "metadata": {},
   "outputs": [
    {
     "output_type": "stream",
     "name": "stdout",
     "text": [
      "Top 10 recommendations for You!!\n1 Fast and the Furious, The (2001)\n2 Fast & Furious (Fast and the Furious 4, The) (2009)\n3 Mission: Impossible III (2006)\n4 Die Another Day (2002)\n5 Crank (2006)\n6 Wanted (2008)\n7 Jumper (2008)\n8 Mummy Returns, The (2001)\n9 Rat Race (2001)\n10 xXx (2002)\nTop 10 recommendations for You!!\n1 On Her Majesty's Secret Service (1969)\n2 Thunderball (1965)\n3 View to a Kill, A (1985)\n4 Tremors (1990)\n5 Moonraker (1979)\n6 From Russia with Love (1963)\n7 Licence to Kill (1989)\n8 Goldfinger (1964)\n9 Indiana Jones and the Kingdom of the Crystal Skull (2008)\n10 Live and Let Die (1973)\n"
     ]
    }
   ],
   "source": [
    "def get_similar_movies(movie_name, user_rating):\n",
    "    #subtract 2.5(mean of ratings) from user_rating \n",
    "    # If user rating's below 3, movies similar to this movie is pushed down the \n",
    "    #preference list\n",
    "    similar_score = movie_similarity_df[movie_name]*(user_rating-2.5)\n",
    "    similar_score = similar_score.sort_values(ascending=False)\n",
    "    return similar_score\n",
    "\n",
    "action_lover = [('2 Fast 2 Furious (Fast and the Furious 2, The) (2003)', 5), \n",
    "                ('12 Years a Slave (2013)', 4), ('2012 (2009)', 3),\n",
    "                ('(500) Days of Summer (2009)',2)]\n",
    "\n",
    "'''\n",
    "similar_movies = pd.DataFrame()\n",
    "for movie,rating in action_lover:\n",
    "    similar_movies = similar_movies.append(get_similar_movies(movie,rating), ignore_index=True)\n",
    "\n",
    "similar_movies.head()\n",
    "''' \n",
    "\n",
    "def print_top_movies(top_movies):\n",
    "    n = len(top_movies)\n",
    "    i = 1\n",
    "    print('Top '+str(n)+' recommendations for You!!')\n",
    "    for movie in top_movies:\n",
    "        print(str(i)+\" \"+movie)\n",
    "        i+=1\n",
    "def show_top_recommended_movies(user_movie_ratings, top_n):\n",
    "    similar_movies = pd.DataFrame()\n",
    "    for movie,rating in user_movie_ratings:\n",
    "        similar_movies = similar_movies.append(get_similar_movies(movie,rating), ignore_index=True)\n",
    "    sorted_movies = similar_movies.sum().sort_values(ascending=False)\n",
    "    chosen_movies = [item[0] for item in user_movie_ratings]\n",
    "    #chosen_movies\n",
    "    sorted_movies_without_given_movies = sorted_movies.drop(chosen_movies)\n",
    "    how_many_to_show = top_n\n",
    "    list_of_movies_recommended = list(sorted_movies_without_given_movies[:top_n].index)\n",
    "    print_top_movies(list_of_movies_recommended)\n",
    "    return list_of_movies_recommended\n",
    "\n",
    "result = show_top_recommended_movies(action_lover, 10)\n",
    "\n",
    "\n",
    "\n"
   ]
  },
  {
   "cell_type": "code",
   "execution_count": 38,
   "metadata": {},
   "outputs": [
    {
     "output_type": "stream",
     "name": "stdout",
     "text": [
      "Top 10 recommendations for You!!\n1 On Her Majesty's Secret Service (1969)\n2 Thunderball (1965)\n3 View to a Kill, A (1985)\n4 Tremors (1990)\n5 Moonraker (1979)\n6 From Russia with Love (1963)\n7 Licence to Kill (1989)\n8 Goldfinger (1964)\n9 Indiana Jones and the Kingdom of the Crystal Skull (2008)\n10 Live and Let Die (1973)\n"
     ]
    }
   ],
   "source": [
    "user2_ratings = [('You Only Live Twice (1967)', 5), \n",
    "                ('40-Year-Old Virgin, The (2005)', 4), ('Working Girl (1988)', 3),\n",
    "                ('(500) Days of Summer (2009)',2)]\n",
    "result= show_top_recommended_movies(user2_ratings, 10)"
   ]
  },
  {
   "cell_type": "code",
   "execution_count": 27,
   "metadata": {},
   "outputs": [
    {
     "output_type": "execute_result",
     "data": {
      "text/plain": [
       "['Fast and the Furious, The (2001)',\n",
       " 'Fast & Furious (Fast and the Furious 4, The) (2009)',\n",
       " 'Mission: Impossible III (2006)',\n",
       " 'Die Another Day (2002)',\n",
       " 'Crank (2006)',\n",
       " 'Wanted (2008)',\n",
       " 'Jumper (2008)',\n",
       " 'Mummy Returns, The (2001)',\n",
       " 'Rat Race (2001)',\n",
       " 'xXx (2002)']"
      ]
     },
     "metadata": {},
     "execution_count": 27
    }
   ],
   "source": [
    "#tmp = sorted_movies.drop(['2 Fast 2 Furious (Fast and the Furious 2, The) (2003)','12 Years a Slave (2013)'])\n",
    "#tmp\n",
    "chosen_movies = [item[0] for item in action_lover]\n",
    "#chosen_movies\n",
    "sorted_movies_without_given_movies = sorted_movies.drop(chosen_movies)\n",
    "how_many_to_show = 10\n",
    "list_of_movies_recommended = list(sorted_movies_without_given_movies[:10].index)\n",
    "list_of_movies_recommended"
   ]
  },
  {
   "cell_type": "code",
   "execution_count": null,
   "metadata": {},
   "outputs": [],
   "source": []
  }
 ]
}